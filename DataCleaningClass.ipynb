{
  "nbformat": 4,
  "nbformat_minor": 0,
  "metadata": {
    "colab": {
      "provenance": [],
      "authorship_tag": "ABX9TyOwvzTvwUvChLHrlWAVdAcj",
      "include_colab_link": true
    },
    "kernelspec": {
      "name": "python3",
      "display_name": "Python 3"
    },
    "language_info": {
      "name": "python"
    }
  },
  "cells": [
    {
      "cell_type": "markdown",
      "metadata": {
        "id": "view-in-github",
        "colab_type": "text"
      },
      "source": [
        "<a href=\"https://colab.research.google.com/github/prireneo/analyse_clean_covid19_data/blob/main/DataCleaningClass.ipynb\" target=\"_parent\"><img src=\"https://colab.research.google.com/assets/colab-badge.svg\" alt=\"Open In Colab\"/></a>"
      ]
    },
    {
      "cell_type": "code",
      "execution_count": 5,
      "metadata": {
        "colab": {
          "base_uri": "https://localhost:8080/"
        },
        "id": "7rDEgYKTyTNC",
        "outputId": "96b5dadb-adec-40f0-8458-4f5890b2a752"
      },
      "outputs": [
        {
          "output_type": "stream",
          "name": "stdout",
          "text": [
            "    Name    Age\n",
            "0  False  False\n",
            "1  False  False\n",
            "2   True  False\n",
            "3  False   True\n"
          ]
        }
      ],
      "source": [
        "#Data Cleaning\n",
        "import pandas as pd\n",
        "import numpy as np\n",
        "\n",
        "#create a sample dataframe\n",
        "data = {'Name':['John','Anna',np.nan,'Peter'],\n",
        "'Age':[28,24,35,np.nan]}\n",
        "\n",
        "df = pd.DataFrame(data)\n",
        "#Detect nulls\n",
        "print(df.isnull())"
      ]
    },
    {
      "cell_type": "code",
      "source": [
        "#Dropping Nulls\n",
        "#Drop rows with null values\n",
        "df_dropped = df.dropna()\n",
        "print(df_dropped)"
      ],
      "metadata": {
        "colab": {
          "base_uri": "https://localhost:8080/"
        },
        "id": "2o59OXOL2XSd",
        "outputId": "4c90cd6d-1e7e-4c1c-82e5-cd467c131eef"
      },
      "execution_count": 6,
      "outputs": [
        {
          "output_type": "stream",
          "name": "stdout",
          "text": [
            "   Name   Age\n",
            "0  John  28.0\n",
            "1  Anna  24.0\n"
          ]
        }
      ]
    },
    {
      "cell_type": "code",
      "source": [
        "#Filling Nulls\n",
        "#Fill Null values with a Specific value\n",
        "df_filled=df.fillna(\"unknown\")\n",
        "print(df_filled)"
      ],
      "metadata": {
        "colab": {
          "base_uri": "https://localhost:8080/"
        },
        "id": "sT3N-QPB20rS",
        "outputId": "708ea194-4f7c-4fbe-d5c4-e506342df2b8"
      },
      "execution_count": 7,
      "outputs": [
        {
          "output_type": "stream",
          "name": "stdout",
          "text": [
            "      Name      Age\n",
            "0     John     28.0\n",
            "1     Anna     24.0\n",
            "2  unknown     35.0\n",
            "3    Peter  unknown\n"
          ]
        }
      ]
    },
    {
      "cell_type": "code",
      "source": [
        "#OUTLIERS\n",
        "#Detecting Outliers using IQR(interquartile Range)\n",
        "#Create a sample Dataframe\n",
        "\"\"\"\n",
        "1. Create a sample Dataframe\n",
        "2.Calculate Q1 (First Quartile)\n",
        "3.\n",
        "4.Calculate IQR range\n",
        "5. Detect Outlier\n",
        "6. Print Outlier \"\"\"\n",
        "import pandas as pd\n",
        "data = {'Score':[85,90,78,92,88,76,95,89,1000]}\n",
        "df = pd.DataFrame(data)\n",
        "\n",
        "#Calculate Q1 and Q3\n",
        "Q1= df['Score'].quantile(0.25)\n",
        "Q3= df['Score'].quantile(0.75)\n",
        "\n",
        "#Calculate IQR\n",
        "IQR = Q3-Q1\n",
        "\n",
        "#Detect Outliers\n",
        "outliers= df[(df['Score'] < Q1 - 1.5 * IQR) | (df['Score'] > Q3 + 1.5 * IQR)]\n",
        "print(outliers)"
      ],
      "metadata": {
        "colab": {
          "base_uri": "https://localhost:8080/"
        },
        "id": "eSUc20-B3Qca",
        "outputId": "709256d4-665c-4d51-eb42-11a4e9003b28"
      },
      "execution_count": 16,
      "outputs": [
        {
          "output_type": "stream",
          "name": "stdout",
          "text": [
            "   Score\n",
            "8   1000\n"
          ]
        }
      ]
    },
    {
      "cell_type": "code",
      "source": [
        "import pandas as pd\n",
        "#Load Covid-19 data\n",
        "url  = \"https://raw.githubusercontent.com/CSSEGISandData/COVID-19/master/csse_covid_19_data/csse_covid_19_time_series/time_series_covid19_confirmed_global.csv\"\n",
        "df = pd.read_csv(url)\n",
        "\n",
        "#Clean and preprocess data\n",
        "df = df.melt(id_vars=['Province/State','Country/Region', 'Lat', 'Long'], var_name='Date', value_name='Confirmed Cases')\n",
        "df['Date'] = pd.to_datetime(df['Date'], format=\"%m/%d/%y\")\n",
        "\n",
        "#Grouping Data\n",
        "df_grouped = df.groupby(['Country/Region','Date'])['Confirmed Cases']. sum().reset_index()\n",
        "\n",
        "#Display first few rows\n",
        "print(df_grouped.head())"
      ],
      "metadata": {
        "colab": {
          "base_uri": "https://localhost:8080/"
        },
        "id": "YMsnqfb2C-mZ",
        "outputId": "5e80ee03-fd6a-4120-eb1e-54f34f7d33a5"
      },
      "execution_count": 22,
      "outputs": [
        {
          "output_type": "stream",
          "name": "stdout",
          "text": [
            "  Country/Region       Date  Confirmed Cases\n",
            "0    Afghanistan 2020-01-22                0\n",
            "1    Afghanistan 2020-01-23                0\n",
            "2    Afghanistan 2020-01-24                0\n",
            "3    Afghanistan 2020-01-25                0\n",
            "4    Afghanistan 2020-01-26                0\n"
          ]
        }
      ]
    },
    {
      "cell_type": "code",
      "source": [
        "#Display All Roles\n",
        "print(df_grouped)"
      ],
      "metadata": {
        "colab": {
          "base_uri": "https://localhost:8080/"
        },
        "id": "89mZRLW8KWfH",
        "outputId": "09f3ca7d-e295-464d-bd42-8f8681cf7342"
      },
      "execution_count": 24,
      "outputs": [
        {
          "output_type": "stream",
          "name": "stdout",
          "text": [
            "       Country/Region       Date  Confirmed Cases\n",
            "0         Afghanistan 2020-01-22                0\n",
            "1         Afghanistan 2020-01-23                0\n",
            "2         Afghanistan 2020-01-24                0\n",
            "3         Afghanistan 2020-01-25                0\n",
            "4         Afghanistan 2020-01-26                0\n",
            "...               ...        ...              ...\n",
            "229738       Zimbabwe 2023-03-05           264127\n",
            "229739       Zimbabwe 2023-03-06           264127\n",
            "229740       Zimbabwe 2023-03-07           264127\n",
            "229741       Zimbabwe 2023-03-08           264276\n",
            "229742       Zimbabwe 2023-03-09           264276\n",
            "\n",
            "[229743 rows x 3 columns]\n"
          ]
        }
      ]
    }
  ]
}